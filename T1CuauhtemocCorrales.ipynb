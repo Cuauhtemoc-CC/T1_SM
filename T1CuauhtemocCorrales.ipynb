{
 "cells": [
  {
   "cell_type": "markdown",
   "metadata": {},
   "source": [
    "# Tarea\n",
    "### PARTE 1: *Presentacion sobre mi*"
   ]
  },
  {
   "cell_type": "markdown",
   "metadata": {},
   "source": [
    "- Mi **nombre** completo es Cuauhtémoc Corrales Camacho. \n",
    "- Soy un estudiante de **Ingeniería Financiera** en ITESO. \n",
    "- Realice la elección de esta carrera debido a una búsqueda, en el cual considere mis habilidades, intereses y una proyección futura que la carrera de ingeniería financiera es capaz de aportar al mundo al cual la sociedad se dirige.\n",
    "- La *carrera* se enfoca en 4 áreas fundamentales: **el cálculo, la economía, la programación y las estrategias de características de la carrera**. Entre estas cuatro, aquellas que se me facilitan más son cálculo y economía. Las dos restantes son complicadas pero espero sacar el máximo provecho de todas las materias impartidas por la universidad relacionadas a esa área."
   ]
  },
  {
   "cell_type": "markdown",
   "metadata": {},
   "source": [
    "El link del Github es el siguiente: https://github.com/Cuauhtemoc-CC/T1_SM.git"
   ]
  },
  {
   "cell_type": "markdown",
   "metadata": {},
   "source": []
  }
 ],
 "metadata": {
  "kernelspec": {
   "display_name": "Python 3",
   "language": "python",
   "name": "python3"
  },
  "language_info": {
   "codemirror_mode": {
    "name": "ipython",
    "version": 3
   },
   "file_extension": ".py",
   "mimetype": "text/x-python",
   "name": "python",
   "nbconvert_exporter": "python",
   "pygments_lexer": "ipython3",
   "version": "3.7.3"
  }
 },
 "nbformat": 4,
 "nbformat_minor": 2
}
