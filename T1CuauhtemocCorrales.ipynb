{
 "cells": [
  {
   "cell_type": "markdown",
   "metadata": {},
   "source": [
    "# Tarea\n",
    "### PARTE 1: *Presentacion sobre mi*"
   ]
  },
  {
   "cell_type": "markdown",
   "metadata": {},
   "source": [
    "- Mi **nombre** completo es Cuauhtémoc Corrales Camacho. \n",
    "- Soy un estudiante de **Ingeniería Financiera** en ITESO. \n",
    "- Realice la elección de esta carrera debido a una búsqueda, en el cual considere mis habilidades, intereses y una proyección futura que la carrera de ingeniería financiera es capaz de aportar al mundo al cual la sociedad se dirige.\n",
    "- La *carrera* se enfoca en 4 áreas fundamentales: **el cálculo, la economía, la programación y las estrategias de características de la carrera**. Entre estas cuatro, aquellas que se me facilitan más son cálculo y economía. Las dos restantes son complicadas pero espero sacar el máximo provecho de todas las materias impartidas por la universidad relacionadas a esa área."
   ]
  },
  {
   "cell_type": "markdown",
   "metadata": {},
   "source": [
    "El link del Github es el siguiente: https://github.com/Cuauhtemoc-CC/T1_SM.git"
   ]
  },
  {
   "cell_type": "markdown",
   "metadata": {},
   "source": [
    "### PARTE 2 "
   ]
  },
  {
   "cell_type": "markdown",
   "metadata": {},
   "source": [
    "**Resumen: \"Why Python is so popular with developers: 3 reasons the language has exploded\"**"
   ]
  },
  {
   "cell_type": "markdown",
   "metadata": {},
   "source": [
    "Referencia: https://www.techrepublic.com/article/why-python-is-so-popular-with-developers-3-reasons-the-language-has-exploded/"
   ]
  },
  {
   "cell_type": "markdown",
   "metadata": {},
   "source": [
    "Python es el lenguaje de programación de más rápido crecimiento en el mundo, ya que se utiliza cada vez más en una amplia gama de puestos de trabajo de desarrolladores y de científicos de datos en todos los sectores. \"El auge de Python está relacionado con el hecho de que las empresas entienden que están generando todos estos datos todo el tiempo, y que si capacitan a personas internamente o contratan a personas que tienen estas habilidades, pueden utilizar esos datos para tomar mejores decisiones y pueden ayudar a que sus empresas prosperen. Es un gran primer lenguaje de programación para aprender, y también es el centro de una de las tendencias más impactantes que impulsan cómo las empresas están agregando valor a lo que están haciendo en este momento\" dijo la científica de datos Julia Silge."
   ]
  },
  {
   "cell_type": "markdown",
   "metadata": {},
   "source": [
    "A continuación se mostraran tres razones por las cuales Python se encuentra dominando el área de la programación:"
   ]
  },
  {
   "cell_type": "markdown",
   "metadata": {},
   "source": [
    "- 1) **Facíl de aprender:** Python está constantemente clasificado como uno de los lenguajes de programación más fáciles de aprender, y es conocido por su alta fiabilidad y sintaxis simple, que son un atractivo para los nuevos codificadores en particular.\n",
    "\n",
    "- 2) **La explosión del uso de Inteligencia Artificial y ciencia de datos en las corporaciones:** El crecimiento en el uso de Python ha sido más rápido entre los científicos de datos, y en particular entre los que trabajan en el aprendizaje automático, encontró Stack Overflow. &quot;De acuerdo con los datos que tenemos, los patrones de visitas que vemos que la gente usa Python para la ciencia de datos es lo que está detrás del aumento realmente dramático en el uso de Python\";, dijo Silge. \"Vemos casi un renacimiento porque Python ha demostrado ser muy, muy útil para la gente que está haciendo el tipo de inteligencia artificial o aprendizaje automático de cosas. Hay un marco de trabajo muy bueno. Tienes buenas herramientas para los científicos de datos, o gente que aspira a ser científicos de datos\". \n",
    "\n",
    "- 3) **Una gran cantidad de desarrolladores:** Python se utiliza en un gran número de aplicaciones, desde AI, hasta videojuegos y herramientas de productividad. Python tiene una comunidad \"sana y amistosa\" a su alrededor."
   ]
  },
  {
   "cell_type": "markdown",
   "metadata": {},
   "source": [
    "**Resumen: \"Python is becoming the world’s most popular coding language\"**"
   ]
  },
  {
   "cell_type": "markdown",
   "metadata": {},
   "source": [
    "Referencia: https://www.economist.com/graphic-detail/2018/07/26/python-is-becoming-the-worlds-most-popular-coding-language"
   ]
  },
  {
   "cell_type": "markdown",
   "metadata": {},
   "source": [
    "**Nota:** El texto original también se encuentra en inglés, no obstante, el resumen será redactado en español."
   ]
  },
  {
   "cell_type": "markdown",
   "metadata": {},
   "source": [
    "\"No me propuse crear un lenguaje destinado al consumo masivo\", dijo Guido van Rossum, un informático holandés que ideó Python, un lenguaje de programación, en 1989. Pero casi tres décadas después, su invento ha superado a casi todos sus rivales y ha llevado la codificación a las yemas de los dedos de personas que alguna vez se sintieron desconcertadas por él. Las dos principales ventajas del idioma son su simplicidad y flexibilidad. Su sencilla sintaxis y el uso de espacios con sangría hacen que sea fácil de aprender, leer y compartir. Con una base de usuarios de tan rápido crecimiento y una amplia gama de capacidades, Python podría parecer destinado a convertirse en la lingua franca de la codificación, dejando obsoletos a todos los demás competidores."
   ]
  },
  {
   "cell_type": "markdown",
   "metadata": {},
   "source": []
  }
 ],
 "metadata": {
  "kernelspec": {
   "display_name": "Python 3",
   "language": "python",
   "name": "python3"
  },
  "language_info": {
   "codemirror_mode": {
    "name": "ipython",
    "version": 3
   },
   "file_extension": ".py",
   "mimetype": "text/x-python",
   "name": "python",
   "nbconvert_exporter": "python",
   "pygments_lexer": "ipython3",
   "version": "3.7.3"
  }
 },
 "nbformat": 4,
 "nbformat_minor": 2
}
